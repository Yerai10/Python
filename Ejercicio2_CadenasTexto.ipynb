{
  "nbformat": 4,
  "nbformat_minor": 0,
  "metadata": {
    "colab": {
      "provenance": [],
      "authorship_tag": "ABX9TyOBaItoyDeMnqqcgiaoYFzW",
      "include_colab_link": true
    },
    "kernelspec": {
      "name": "python3",
      "display_name": "Python 3"
    },
    "language_info": {
      "name": "python"
    }
  },
  "cells": [
    {
      "cell_type": "markdown",
      "metadata": {
        "id": "view-in-github",
        "colab_type": "text"
      },
      "source": [
        "<a href=\"https://colab.research.google.com/github/Yerai10/Python/blob/main/Ejercicio2_CadenasTexto.ipynb\" target=\"_parent\"><img src=\"https://colab.research.google.com/assets/colab-badge.svg\" alt=\"Open In Colab\"/></a>"
      ]
    },
    {
      "cell_type": "markdown",
      "source": [
        "Crea un programa llamado CuentaTexto.py que le pida al usuario un texto, y luego le diga cuántas veces aparece la palabra Python en ese texto."
      ],
      "metadata": {
        "id": "N0iO5pFqueyu"
      }
    },
    {
      "cell_type": "code",
      "source": [
        "frase = input(\"Escribe una frase: \\n\")\n",
        "\n",
        "contador = 0\n",
        "while \"Python\" in frase:\n",
        "  contador = contador + 1\n",
        "  posicion =frase.find(\"Python\")\n",
        "  frase = frase[posicion + 1:]\n",
        "\n",
        "print(\"La palabra Python aparece un total de %d veces\" % (contador))"
      ],
      "metadata": {
        "colab": {
          "base_uri": "https://localhost:8080/"
        },
        "id": "ucJQdjLMw5gN",
        "outputId": "0ac3546b-1440-41aa-a7bf-efa2232cdbce"
      },
      "execution_count": 33,
      "outputs": [
        {
          "output_type": "stream",
          "name": "stdout",
          "text": [
            "Escribe una frase: \n",
            "Python es un lenguaje de programación muy versátil. Con Python, puedes desarrollar aplicaciones web, análisis de datos y automatizar tareas. La comunidad de Python es muy activa\n",
            "La palabra Python aparece un total de 3 veces\n"
          ]
        }
      ]
    }
  ]
}