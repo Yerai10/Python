{
  "nbformat": 4,
  "nbformat_minor": 0,
  "metadata": {
    "colab": {
      "provenance": [],
      "authorship_tag": "ABX9TyPKN0Z+fONmCHYj/rMKJ4Pd",
      "include_colab_link": true
    },
    "kernelspec": {
      "name": "python3",
      "display_name": "Python 3"
    },
    "language_info": {
      "name": "python"
    }
  },
  "cells": [
    {
      "cell_type": "markdown",
      "metadata": {
        "id": "view-in-github",
        "colab_type": "text"
      },
      "source": [
        "<a href=\"https://colab.research.google.com/github/Yerai10/Python/blob/main/Ejercicio2_CadenasTexto.ipynb\" target=\"_parent\"><img src=\"https://colab.research.google.com/assets/colab-badge.svg\" alt=\"Open In Colab\"/></a>"
      ]
    },
    {
      "cell_type": "markdown",
      "source": [
        "Crea un programa llamado CuentaTexto.py que le pida al usuario un texto, y luego le diga cuántas veces aparece la palabra Python en ese texto."
      ],
      "metadata": {
        "id": "N0iO5pFqueyu"
      }
    },
    {
      "cell_type": "code",
      "source": [
        "frase = input(\"Escribe una frase: \\n\")\n",
        "#Forma 1: Buscando la posicion y sumarle 1 para que continúe buscando la palabra \"Python\"\n",
        "\n",
        "#contador1 = 0\n",
        "#while \"Python\" in frase:\n",
        "  #contador1 = contador1 + 1\n",
        "  #posicion =frase.find(\"Python\")\n",
        "  #frase = frase[posicion + 1:]\n",
        "#print(\"La palabra Python aparece un total de %d veces\" % (contador1))\n",
        "\n",
        "\n",
        "#Forma 2: Reemplazar las comas o signos de puntuación en la frase, pasarlo a lista y buscar cuantas veces aparece la palabra Python\n",
        "listaSinComas = frase.replace(\",\", \"\")\n",
        "lista =listaSinComas.split()\n",
        "contador2 = lista.count(\"Python\")\n",
        "print(\"La palabra Python aparece un total de %d veces\" % (contador2))\n"
      ],
      "metadata": {
        "colab": {
          "base_uri": "https://localhost:8080/"
        },
        "id": "ucJQdjLMw5gN",
        "outputId": "f16d647b-db46-4f7e-9130-52b63a8f63c1"
      },
      "execution_count": 45,
      "outputs": [
        {
          "output_type": "stream",
          "name": "stdout",
          "text": [
            "Escribe una frase: \n",
            "Python es un lenguaje de programación muy versátil. Con Python, puedes desarrollar aplicaciones web, análisis de datos y automatizar tareas. La comunidad de Python es muy activa y siempre hay nuevos recursos \n",
            "La palabra Python aparece un total de 3 veces\n"
          ]
        }
      ]
    }
  ]
}