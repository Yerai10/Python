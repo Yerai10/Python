{
  "nbformat": 4,
  "nbformat_minor": 0,
  "metadata": {
    "colab": {
      "provenance": [],
      "authorship_tag": "ABX9TyOstNY7RMvt878zi4zTMxVe",
      "include_colab_link": true
    },
    "kernelspec": {
      "name": "python3",
      "display_name": "Python 3"
    },
    "language_info": {
      "name": "python"
    }
  },
  "cells": [
    {
      "cell_type": "markdown",
      "metadata": {
        "id": "view-in-github",
        "colab_type": "text"
      },
      "source": [
        "<a href=\"https://colab.research.google.com/github/Yerai10/Python/blob/main/Ejercicio_Hospital.ipynb\" target=\"_parent\"><img src=\"https://colab.research.google.com/assets/colab-badge.svg\" alt=\"Open In Colab\"/></a>"
      ]
    },
    {
      "cell_type": "markdown",
      "source": [
        "En un hospital hay diferentes tipos de personal: médicos, enfermeros y administrativos. De todos guardamos su información básica (dni, nombre, dirección y teléfono), de los médicos almacenamos también su especialidad, y de los enfermeros la planta en la que trabajan. ​\n",
        "\n",
        "Al hospital acuden pacientes. De todos ellos se guarda un historial con su dni, nombre, dirección, teléfono, y un conjunto de pruebas y consultas que hayan hecho en el hospital. De cada prueba o consulta guardamos la fecha en que se hizo, y el médico que le atendió ​\n",
        "\n",
        "Define las clases necesarias para el enunciado propuesto en un programa llamado Hospital.py. Define un programa principal que cree un array de personal de hospital con varios médicos y enfermeros. Define un paciente con sus datos, y dale de alta diversas pruebas realizadas por varios médicos. Finalmente, trata de mostrar por pantalla los datos completos del paciente, incluyendo su historial de pruebas.​"
      ],
      "metadata": {
        "id": "gDqa729roxlo"
      }
    },
    {
      "cell_type": "code",
      "execution_count": 1,
      "metadata": {
        "colab": {
          "base_uri": "https://localhost:8080/"
        },
        "id": "wBDi2fj7otO6",
        "outputId": "9afa78e3-c592-448f-e95a-4f3f8f482da2"
      },
      "outputs": [
        {
          "output_type": "stream",
          "name": "stdout",
          "text": [
            "Dolores Martín\n",
            " No tiene pruebas realizadas \n",
            "\n"
          ]
        }
      ],
      "source": [
        "# Clase padre: Hospital\n",
        "class Persona:\n",
        "    def __init__(self, dni, nombre, direccion, telefono):\n",
        "        self.dni = dni\n",
        "        self.nombre = nombre\n",
        "        self.direccion = direccion\n",
        "        self.telefono = telefono\n",
        "\n",
        "    def informacion(self):\n",
        "        return self.nombre\n",
        "\n",
        "\n",
        "# Subclase de Persona son PersonalHospital con las\n",
        "# Clases Hijas , Medico, Enfermero, Administrativos y\n",
        "# la otra Sublcase será Paciente\n",
        "\n",
        "class PersonalHospital(Persona):\n",
        "    def __init__(self, dni, nombre, direccion, telefono):\n",
        "        super().__init__(dni, nombre, direccion, telefono)\n",
        "\n",
        "\n",
        "class Medico(PersonalHospital):\n",
        "    def __init__(self, dni, nombre, direccion, telefono, especialidad):\n",
        "        super().__init__(dni, nombre, direccion, telefono)\n",
        "        self.especialidad = especialidad\n",
        "\n",
        "    def informacion(self):\n",
        "        return \"Doctor/a \" + super().informacion() + \" ( \" + \\\n",
        "            self.especialidad + \" ) \"\n",
        "\n",
        "\n",
        "class Enfermero(PersonalHospital):\n",
        "    def __init__(self, dni, nombre, direccion, telefono, numeroPlanta):\n",
        "        super().__init__(dni, nombre, direccion, telefono)\n",
        "        self.numeroPlanta = numeroPlanta\n",
        "\n",
        "    def informacion(self):\n",
        "        return \"Enfermero/a \" + super().informacion() + \" ( \" + \\\n",
        "            self.numeroPlanta + \" ) \"\n",
        "\n",
        "\n",
        "class Administrativos(PersonalHospital):\n",
        "    def __init__(self, dni, nombre, direccion, telefono):\n",
        "        super().__init__(dni, nombre, direccion, telefono)\n",
        "\n",
        "\n",
        "# Clase prueba médica:\n",
        "class Prueba:\n",
        "    def __int__(self, fecha, descripcion, medico):\n",
        "        self.fecha = fecha\n",
        "        self.descripcion = descripcion\n",
        "        self.medico = medico\n",
        "\n",
        "    def informacion(self):\n",
        "        return self.descripcion + \", realizada por \" + \\\n",
        "            self.medico.informacion() + \" el \" + self.fecha\n",
        "\n",
        "\n",
        "# Clase paciente:\n",
        "\n",
        "class Paciente(Persona):\n",
        "    def __init__(self, dni, nombre, direccion, telefono):\n",
        "        super().__init__(dni, nombre, direccion, telefono)\n",
        "        self.pruebas = []\n",
        "\n",
        "    def nuevaPrueba(self, p):\n",
        "        self.pruebas.append(p)\n",
        "\n",
        "    def informacion(self):\n",
        "        resultado = super().informacion() + \"\\n\"\n",
        "        if len(self.pruebas) > 0:\n",
        "            resultado += \"Pruebas realizadas: \\n\"\n",
        "            for prueba in self.pruebas:\n",
        "                resultado += \"\\t\" + prueba.informacion() + \"\\n\"\n",
        "        else:\n",
        "            resultado += \" No tiene pruebas realizadas \\n\"\n",
        "        return resultado\n",
        "\n",
        "\n",
        "# Programa Principal :\n",
        "\n",
        "# Listado medicos:\n",
        "medicos = [Medico(\"0393588A\", \"Juan Perez\", \"C/ Picos Europeos, 1\",\n",
        "                  \"666555111\", \"Endocrinología\"), Medico(\"04458964B\", \"Elena Rodriguez\", \"C/ Dolor Garcia,55\",\n",
        "                                                         \"677788891\", \"Traumatología\"),\n",
        "           Medico(\"05496579C\", \"Mireia Ruiz\", \"C/ Santa,55\",\n",
        "                  \"682215351\", \"Cirugía\")]\n",
        "\n",
        "# Datos Pacientes:\n",
        "paciente = Paciente(\"06523584C\", \"Dolores Martín\",\n",
        "                    \"C/ Las Vegas, 65\", \"665122354\")\n",
        "\n",
        "# paciente.nuevaPrueba(Prueba(\"12/01/2021\", \"Radiografía\", medicos[1]))\n",
        "# paciente.nuevaPrueba(Prueba(\"01/01/2018\", \"Ecografía\", medicos[0]))\n",
        "\n",
        "print(paciente.informacion())\n"
      ]
    }
  ]
}