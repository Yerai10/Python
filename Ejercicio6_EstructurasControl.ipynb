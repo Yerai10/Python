{
  "nbformat": 4,
  "nbformat_minor": 0,
  "metadata": {
    "colab": {
      "provenance": [],
      "authorship_tag": "ABX9TyO9JO2r47ZWaSpdc5RnO98v",
      "include_colab_link": true
    },
    "kernelspec": {
      "name": "python3",
      "display_name": "Python 3"
    },
    "language_info": {
      "name": "python"
    }
  },
  "cells": [
    {
      "cell_type": "markdown",
      "metadata": {
        "id": "view-in-github",
        "colab_type": "text"
      },
      "source": [
        "<a href=\"https://colab.research.google.com/github/Yerai10/Python/blob/main/Ejercicio6_EstructurasControl.ipynb\" target=\"_parent\"><img src=\"https://colab.research.google.com/assets/colab-badge.svg\" alt=\"Open In Colab\"/></a>"
      ]
    },
    {
      "cell_type": "markdown",
      "source": [
        "Ejercicio 6:\n",
        "\n",
        "Crea un programa que pida al usuario un número entero positivo y muestre por pantalla todos los números impares desde 1 hasta ese número, separados por comas. Si el número introducido no es un valor numérico entero, o no es positivo, se lo deberá volver a pedir las veces que sean necesarias antes de hacer el conteo, mostrando el mensaje de error correspondiente (por ejemplo, Número no válido)."
      ],
      "metadata": {
        "id": "3rZ_lL_6w-FD"
      }
    },
    {
      "cell_type": "code",
      "execution_count": 41,
      "metadata": {
        "colab": {
          "base_uri": "https://localhost:8080/"
        },
        "id": "RpF6PWa7w87g",
        "outputId": "b5be3246-8f1f-4e04-87e8-60f3a82dda2a"
      },
      "outputs": [
        {
          "output_type": "stream",
          "name": "stdout",
          "text": [
            "Escribe un numero positivo 37\n",
            "1,3,5,7,9,11,13,15,17,19,21,23,25,27,29,31,33,35,37,"
          ]
        }
      ],
      "source": [
        "from logging import raiseExceptions\n",
        "numeropositivo = int(input(\"Escribe un numero positivo \"))\n",
        "try:\n",
        "    if numeropositivo <=0:\n",
        "      raiseExceptions(\"El numero debe ser positivo y entero\")\n",
        "    else:\n",
        "      for i in range(1, numeropositivo + 1, 2):\n",
        "        print(i,end=\",\")\n",
        "except Exception as e:\n",
        "  print(\"Error:\", str(\"Número no valido debe ser positivo y entero\"))\n",
        ""
      ]
    }
  ]
}