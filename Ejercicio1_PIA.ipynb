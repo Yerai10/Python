{
  "cells": [
    {
      "cell_type": "markdown",
      "metadata": {
        "id": "view-in-github",
        "colab_type": "text"
      },
      "source": [
        "<a href=\"https://colab.research.google.com/github/Yerai10/Python/blob/main/Ejercicio1_PIA.ipynb\" target=\"_parent\"><img src=\"https://colab.research.google.com/assets/colab-badge.svg\" alt=\"Open In Colab\"/></a>"
      ]
    },
    {
      "cell_type": "markdown",
      "metadata": {
        "id": "2G2EFiGC63xy"
      },
      "source": [
        "Crea un programa llamado Porcentajes.py que le pregunte al usuario cuántos chicos y chicas hay en su clase, y calcule el porcentaje de chicos y chicas."
      ]
    },
    {
      "cell_type": "markdown",
      "metadata": {
        "id": "5JojKSGF7B5Q"
      },
      "source": [
        "Para empezar, completa este código recogiendo en una variable llamada `chicos` el número de chicos de la clase:"
      ]
    },
    {
      "cell_type": "code",
      "execution_count": 14,
      "metadata": {
        "id": "ea-ZWCLl62Vy",
        "colab": {
          "base_uri": "https://localhost:8080/"
        },
        "outputId": "f2a35efa-e085-4fae-b6db-f1b9e68c961b"
      },
      "outputs": [
        {
          "name": "stdout",
          "output_type": "stream",
          "text": [
            "Escribe el número de chicos:\n",
            "5\n"
          ]
        }
      ],
      "source": [
        "print(\"Escribe el número de chicos:\")\n",
        "chicos = int(input())"
      ]
    },
    {
      "cell_type": "markdown",
      "metadata": {
        "id": "TFSKGoiy7JXS"
      },
      "source": [
        "Ahora haz algo similar al código anterior para recoger el número de chicas en una variable `chicas`:"
      ]
    },
    {
      "cell_type": "code",
      "execution_count": 15,
      "metadata": {
        "id": "Lus7Fu047NGw",
        "colab": {
          "base_uri": "https://localhost:8080/"
        },
        "outputId": "57e97609-bfd9-474c-9a0a-490a9c80838a"
      },
      "outputs": [
        {
          "name": "stdout",
          "output_type": "stream",
          "text": [
            "Escribe el número de chicas:\n",
            "5\n"
          ]
        }
      ],
      "source": [
        "print(\"Escribe el número de chicas:\")\n",
        "chicas = int(input())"
      ]
    },
    {
      "cell_type": "markdown",
      "metadata": {
        "id": "tO6vQda37T85"
      },
      "source": [
        "Calcula ahora el total de chicos y chicas en una variable `total`:"
      ]
    },
    {
      "cell_type": "code",
      "execution_count": 16,
      "metadata": {
        "id": "jMN_AnXQ7bLC"
      },
      "outputs": [],
      "source": [
        "total = chicos + chicas"
      ]
    },
    {
      "cell_type": "markdown",
      "metadata": {
        "id": "bT-gYIpc7gCb"
      },
      "source": [
        "Calcula en una variable `porcentajeChicos` el porcentaje de chicos de la clase (usando la variable `total` calculada antes):"
      ]
    },
    {
      "cell_type": "code",
      "execution_count": 17,
      "metadata": {
        "id": "U0i2W8E07lT2"
      },
      "outputs": [],
      "source": [
        "porcentajeChicos = chicos * 100 / total"
      ]
    },
    {
      "cell_type": "markdown",
      "metadata": {
        "id": "23emPjRh7nSH"
      },
      "source": [
        "Repite ahora los pasos en la variable `porcentajeChicas` para calcular el porcentaje de chicas:"
      ]
    },
    {
      "cell_type": "code",
      "execution_count": 18,
      "metadata": {
        "id": "ZpDOAusO7qbl"
      },
      "outputs": [],
      "source": [
        " porcentajeChicas = chicas * 100 / total"
      ]
    },
    {
      "cell_type": "markdown",
      "metadata": {
        "id": "nOiUOVCS7sa5"
      },
      "source": [
        "Muestra aquí el resultado final:"
      ]
    },
    {
      "cell_type": "code",
      "execution_count": 19,
      "metadata": {
        "id": "zlNuoY_c7uOX",
        "colab": {
          "base_uri": "https://localhost:8080/"
        },
        "outputId": "9f06e778-0441-4288-8b6f-cad749b50825"
      },
      "outputs": [
        {
          "output_type": "stream",
          "name": "stdout",
          "text": [
            " El resultado de chicos es 50.0% y el resultado de chicas es 50.0%\n"
          ]
        }
      ],
      "source": [
        "print( f' El resultado de chicos es {porcentajeChicos}% y el resultado de chicas es {porcentajeChicas}%')"
      ]
    }
  ],
  "metadata": {
    "colab": {
      "provenance": [],
      "toc_visible": true,
      "include_colab_link": true
    },
    "kernelspec": {
      "display_name": "Python 3",
      "name": "python3"
    },
    "language_info": {
      "name": "python"
    }
  },
  "nbformat": 4,
  "nbformat_minor": 0
}