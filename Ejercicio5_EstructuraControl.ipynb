{
  "nbformat": 4,
  "nbformat_minor": 0,
  "metadata": {
    "colab": {
      "provenance": [],
      "authorship_tag": "ABX9TyOzpOpDIk1lse0TjnHOpNAJ",
      "include_colab_link": true
    },
    "kernelspec": {
      "name": "python3",
      "display_name": "Python 3"
    },
    "language_info": {
      "name": "python"
    }
  },
  "cells": [
    {
      "cell_type": "markdown",
      "metadata": {
        "id": "view-in-github",
        "colab_type": "text"
      },
      "source": [
        "<a href=\"https://colab.research.google.com/github/Yerai10/Python/blob/main/Ejercicio5_EstructuraControl.ipynb\" target=\"_parent\"><img src=\"https://colab.research.google.com/assets/colab-badge.svg\" alt=\"Open In Colab\"/></a>"
      ]
    },
    {
      "cell_type": "markdown",
      "source": [
        "Crea un programa llamado InvertirNumero.py que le pida al usuario un número entero y construya otro en otra variable que sea el original dado la vuelta. Por ejemplo, si el número inicial es 2356, debe construir el 6532."
      ],
      "metadata": {
        "id": "mrJDjNz0oR6n"
      }
    },
    {
      "cell_type": "code",
      "execution_count": 14,
      "metadata": {
        "colab": {
          "base_uri": "https://localhost:8080/"
        },
        "id": "9Vcw0rdnoJnR",
        "outputId": "75e7bffc-1fde-40d4-ba76-af095a3e7d8f"
      },
      "outputs": [
        {
          "output_type": "stream",
          "name": "stdout",
          "text": [
            "Escribe un numero entero:\n",
            "25\n",
            "52\n"
          ]
        }
      ],
      "source": [
        "print('Escribe un numero entero:')\n",
        "numero = int(input())\n",
        "\n",
        "numeroinvertido = str(numero)[::-1]\n",
        "\n",
        "print(numeroinvertido)\n"
      ]
    }
  ]
}