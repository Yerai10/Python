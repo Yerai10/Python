{
  "nbformat": 4,
  "nbformat_minor": 0,
  "metadata": {
    "colab": {
      "provenance": [],
      "authorship_tag": "ABX9TyP/ILVVp7XKrZjequLZL7Ia",
      "include_colab_link": true
    },
    "kernelspec": {
      "name": "python3",
      "display_name": "Python 3"
    },
    "language_info": {
      "name": "python"
    }
  },
  "cells": [
    {
      "cell_type": "markdown",
      "metadata": {
        "id": "view-in-github",
        "colab_type": "text"
      },
      "source": [
        "<a href=\"https://colab.research.google.com/github/Yerai10/Python/blob/main/Ejercicio1_ArraysListas.ipynb\" target=\"_parent\"><img src=\"https://colab.research.google.com/assets/colab-badge.svg\" alt=\"Open In Colab\"/></a>"
      ]
    },
    {
      "cell_type": "markdown",
      "source": [
        "Crea un programa llamado ListaInvertida.py que le pida al usuario que introduzca un conjunto de nombres separados por comas, y le muestre por pantalla la misma lista en orden inverso."
      ],
      "metadata": {
        "id": "WuADxcqIx3YK"
      }
    },
    {
      "cell_type": "code",
      "execution_count": 5,
      "metadata": {
        "colab": {
          "base_uri": "https://localhost:8080/"
        },
        "id": "Etz5I0BJxCa1",
        "outputId": "d53f7015-9fca-4daf-9367-277d502b0ba0"
      },
      "outputs": [
        {
          "output_type": "stream",
          "name": "stdout",
          "text": [
            "Introducta un conjunto de nombres separados por comas:\n",
            "Yerai, Carlos, Nacho, Ana, Nora\n",
            " Nora, Ana, Nacho, Carlos,Yerai\n"
          ]
        }
      ],
      "source": [
        "print(\"Introducta un conjunto de nombres separados por comas:\")\n",
        "lista =input().split(\",\")\n",
        "datosinvertidos = lista[::-1]\n",
        "print(','.join(datosinvertidos))"
      ]
    }
  ]
}