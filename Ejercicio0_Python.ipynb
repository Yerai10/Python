{
  "nbformat": 4,
  "nbformat_minor": 0,
  "metadata": {
    "colab": {
      "provenance": [],
      "authorship_tag": "ABX9TyOfekppkQNKzyHvGvhXLRFS",
      "include_colab_link": true
    },
    "kernelspec": {
      "name": "python3",
      "display_name": "Python 3"
    },
    "language_info": {
      "name": "python"
    }
  },
  "cells": [
    {
      "cell_type": "markdown",
      "metadata": {
        "id": "view-in-github",
        "colab_type": "text"
      },
      "source": [
        "<a href=\"https://colab.research.google.com/github/Yerai10/Python/blob/main/Ejercicio0_Python.ipynb\" target=\"_parent\"><img src=\"https://colab.research.google.com/assets/colab-badge.svg\" alt=\"Open In Colab\"/></a>"
      ]
    },
    {
      "cell_type": "code",
      "execution_count": 1,
      "metadata": {
        "colab": {
          "base_uri": "https://localhost:8080/"
        },
        "id": "SuwkWa5I-b0j",
        "outputId": "afe6cbff-feef-4618-a34d-7581f8255a99"
      },
      "outputs": [
        {
          "output_type": "stream",
          "name": "stdout",
          "text": [
            "Escribe un número positivo:5\n",
            "El siguiente número es 6\n",
            "Fin del programa\n"
          ]
        }
      ],
      "source": [
        "numero = int(input(\"Escribe un número positivo:\"))\n",
        "if numero > 0:\n",
        "    numero = numero + 1\n",
        "    print (\"El siguiente número es\", numero)\n",
        "else:\n",
        "    if numero < -10:\n",
        "        print (\"El número es demasiado bajo\")\n",
        "    else:\n",
        "        print (\"El número no es positivo\")\n",
        "print (\"Fin del programa\")"
      ]
    }
  ]
}