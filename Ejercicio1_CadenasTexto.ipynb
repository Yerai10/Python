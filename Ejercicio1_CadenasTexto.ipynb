{
  "nbformat": 4,
  "nbformat_minor": 0,
  "metadata": {
    "colab": {
      "provenance": [],
      "authorship_tag": "ABX9TyOKeb5t5aLk4SziQg2iOKsj",
      "include_colab_link": true
    },
    "kernelspec": {
      "name": "python3",
      "display_name": "Python 3"
    },
    "language_info": {
      "name": "python"
    }
  },
  "cells": [
    {
      "cell_type": "markdown",
      "metadata": {
        "id": "view-in-github",
        "colab_type": "text"
      },
      "source": [
        "<a href=\"https://colab.research.google.com/github/Yerai10/Python/blob/main/Ejercicio1_CadenasTexto.ipynb\" target=\"_parent\"><img src=\"https://colab.research.google.com/assets/colab-badge.svg\" alt=\"Open In Colab\"/></a>"
      ]
    },
    {
      "cell_type": "markdown",
      "source": [
        "Crea un programa llamado SumaSecuencia.py que le pida al usuario una secuencia de números separados por espacios y calcule la suma total de esos números."
      ],
      "metadata": {
        "id": "hfysRSvFpyPv"
      }
    },
    {
      "cell_type": "code",
      "execution_count": 30,
      "metadata": {
        "colab": {
          "base_uri": "https://localhost:8080/"
        },
        "id": "cP3j3hNJhKpb",
        "outputId": "a55391a2-d999-4e47-9bdd-5cb7acb1f87e"
      },
      "outputs": [
        {
          "output_type": "stream",
          "name": "stdout",
          "text": [
            " Introduce varios numeros separados por espacios: \n",
            "45 62 8 2 3\n",
            "La suma de tus numeros es: 120\n"
          ]
        }
      ],
      "source": [
        "texto_entrada = input(\" Introduce varios numeros separados por espacios: \\n\")\n",
        "# Creamos una cadena\n",
        "lista = texto_entrada.split()\n",
        "#Inicializamos la variable\n",
        "suma = 0\n",
        "#Recorremos la lista y sumamos el total de numeros:\n",
        "for numero in lista:\n",
        "  suma = suma + int(numero)\n",
        "\n",
        "print(f\"La suma de tus numeros es: {suma}\")\n"
      ]
    }
  ]
}