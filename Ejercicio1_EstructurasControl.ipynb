{
  "nbformat": 4,
  "nbformat_minor": 0,
  "metadata": {
    "colab": {
      "provenance": [],
      "authorship_tag": "ABX9TyMIAb/zD11Gm2m8Z73T9kit",
      "include_colab_link": true
    },
    "kernelspec": {
      "name": "python3",
      "display_name": "Python 3"
    },
    "language_info": {
      "name": "python"
    }
  },
  "cells": [
    {
      "cell_type": "markdown",
      "metadata": {
        "id": "view-in-github",
        "colab_type": "text"
      },
      "source": [
        "<a href=\"https://colab.research.google.com/github/Yerai10/Python/blob/main/Ejercicio1_EstructurasControl.ipynb\" target=\"_parent\"><img src=\"https://colab.research.google.com/assets/colab-badge.svg\" alt=\"Open In Colab\"/></a>"
      ]
    },
    {
      "cell_type": "markdown",
      "source": [
        "Ejercicio 1:\n",
        "\n",
        "Crea un programa llamado Notas.py que le pida al usuario 3 notas, y calcule la nota final según estas reglas:\n",
        "\n",
        "Si ninguna nota es mayor que 4, la nota final es 0\n",
        "Si algunas notas son mayores que 4 (pero no todas), la nota final es 2\n",
        "Si todas las notas son mayores que 4, la nota final será el 30% de la primera más el 20% de la segunda más el 50% de la tercera"
      ],
      "metadata": {
        "id": "QPuucpFKAz6E"
      }
    },
    {
      "cell_type": "code",
      "execution_count": 21,
      "metadata": {
        "colab": {
          "base_uri": "https://localhost:8080/"
        },
        "id": "j-fMNFJ_Av5r",
        "outputId": "6177b1cf-0ea8-48d5-ed7a-f1d1c8c4b011"
      },
      "outputs": [
        {
          "output_type": "stream",
          "name": "stdout",
          "text": [
            "Introduce tres notas:\n",
            "3\n",
            "5\n",
            "2\n",
            "La nota final es un 2\n"
          ]
        }
      ],
      "source": [
        "print('Introduce tres notas:')\n",
        "nota1 = int(input())\n",
        "nota2 = int(input())\n",
        "nota3 = int(input())\n",
        "\n",
        "if nota1 <= 4 and nota2 <= 4 and nota3 <= 4:\n",
        "  print('La nota final es un 0')\n",
        "elif nota1 > 4 and nota2 > 4 and nota3 > 4:\n",
        "  notafinal1 = nota1 * 0.30\n",
        "  notafinal2 = nota2 * 0.20\n",
        "  notafinal3 = nota3 * 0.50\n",
        "  notadef = notafinal1 + notafinal2 + notafinal3\n",
        "  print(f'La nota final es {notadef} ')\n",
        "\n",
        "else:\n",
        "  print('La nota final es un 2')\n"
      ]
    }
  ]
}