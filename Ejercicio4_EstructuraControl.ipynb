{
  "nbformat": 4,
  "nbformat_minor": 0,
  "metadata": {
    "colab": {
      "provenance": [],
      "authorship_tag": "ABX9TyOKVSG51jg894PddEHPdzfR",
      "include_colab_link": true
    },
    "kernelspec": {
      "name": "python3",
      "display_name": "Python 3"
    },
    "language_info": {
      "name": "python"
    }
  },
  "cells": [
    {
      "cell_type": "markdown",
      "metadata": {
        "id": "view-in-github",
        "colab_type": "text"
      },
      "source": [
        "<a href=\"https://colab.research.google.com/github/Yerai10/Python/blob/main/Ejercicio4_EstructuraControl.ipynb\" target=\"_parent\"><img src=\"https://colab.research.google.com/assets/colab-badge.svg\" alt=\"Open In Colab\"/></a>"
      ]
    },
    {
      "cell_type": "markdown",
      "source": [
        "Crea un programa llamado MCD.py que le pida al usuario dos números n1 y n2 y utilice el algoritmo de Euclides para calcular su máximo común divisor (MCD). Este número es el divisor mayor que tienen en común los dos números. Aplicando el algoritmo de Euclides, se calcula de la siguiente forma:\n",
        "\n",
        "Dividir el mayor de n1 y n2 entre el menor\n",
        "Si la división es exacta (resto 0), el MCD es el número menor\n",
        "Si no, se sustituye el número mayor por el resto de la división, y se vuelve al paso 1"
      ],
      "metadata": {
        "id": "ECRRvT8QXXHL"
      }
    },
    {
      "cell_type": "code",
      "execution_count": 8,
      "metadata": {
        "colab": {
          "base_uri": "https://localhost:8080/"
        },
        "id": "R_oXE9CdXQwQ",
        "outputId": "3be1e9ac-403b-4678-c433-5b3b70f3d08b"
      },
      "outputs": [
        {
          "output_type": "stream",
          "name": "stdout",
          "text": [
            "Ingrese el primer número: 7\n",
            "Ingrese el segundo número: 5\n",
            "El MCD de 7 y 5 es 1\n"
          ]
        }
      ],
      "source": [
        "# Función para calcular el MCD utilizando el algoritmo de Euclides\n",
        "def calcular_mcd(n1, n2):\n",
        "    while n2 != 0:\n",
        "        n1, n2 = n2, n1 % n2\n",
        "    return n1\n",
        "\n",
        "# Solicitar al usuario dos números\n",
        "n1 = int(input(\"Ingrese el primer número: \"))\n",
        "n2 = int(input(\"Ingrese el segundo número: \"))\n",
        "\n",
        "# Calcular el MCD de los dos números\n",
        "mcd = calcular_mcd(n1, n2)\n",
        "\n",
        "# Mostrar el resultado\n",
        "print(f\"El MCD de {n1} y {n2} es {mcd}\")\n"
      ]
    }
  ]
}