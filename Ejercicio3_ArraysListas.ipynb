{
  "nbformat": 4,
  "nbformat_minor": 0,
  "metadata": {
    "colab": {
      "provenance": [],
      "authorship_tag": "ABX9TyMBAlCiV8rrr7SoNoeiKVpo",
      "include_colab_link": true
    },
    "kernelspec": {
      "name": "python3",
      "display_name": "Python 3"
    },
    "language_info": {
      "name": "python"
    }
  },
  "cells": [
    {
      "cell_type": "markdown",
      "metadata": {
        "id": "view-in-github",
        "colab_type": "text"
      },
      "source": [
        "<a href=\"https://colab.research.google.com/github/Yerai10/Python/blob/main/Ejercicio3_ArraysListas.ipynb\" target=\"_parent\"><img src=\"https://colab.research.google.com/assets/colab-badge.svg\" alt=\"Open In Colab\"/></a>"
      ]
    },
    {
      "cell_type": "code",
      "execution_count": 10,
      "metadata": {
        "colab": {
          "base_uri": "https://localhost:8080/"
        },
        "id": "bcN9pG3D7Jy6",
        "outputId": "b8030cb9-afa4-4e4f-9430-9b95ec7ef2a7"
      },
      "outputs": [
        {
          "output_type": "stream",
          "name": "stdout",
          "text": [
            "Escribe numeros. Escribe 0 para terminar\n",
            "6\n",
            "6\n",
            "4\n",
            "5\n",
            "6\n",
            "0\n",
            "Indica el numero que quieres buscar: \n",
            "6\n",
            "Encontrado en posición: 0\n",
            "Encontrado en posición: 1\n",
            "Encontrado en posición: 4\n"
          ]
        }
      ],
      "source": [
        "#Creamos lista vacía\n",
        "numeros = list()\n",
        "print(\"Escribe numeros. Escribe 0 para terminar\")\n",
        "numero = int(input())\n",
        "#Creamos bucle para almacenar los numeros que se han introducidos distintos a 0\n",
        "while numero != 0:\n",
        "  numeros.append(numero)\n",
        "  numero = int(input())\n",
        "#Contamos el numero de veces que se repite:\n",
        "numero_Buscado = int(input(\"Indica el numero que quieres buscar: \\n\"))\n",
        "veces = numeros.count(numero_Buscado)\n",
        "\n",
        "# Si no se repite: No encontrado; si se repite recorremos con un for las\n",
        "#veces repetidas, si es la primera vez que buscamos nos dará la posición\n",
        "# si ya la he buscado antes querría buscar a partir de donde se quedo buscando\n",
        "#pasariamos posicion +1 para que continue buscando.\n",
        "if veces == 0:\n",
        "  print(\"Numero no encontrado\")\n",
        "else:\n",
        "  for i in range(veces):\n",
        "    if i == 0:\n",
        "      posicion = numeros.index(numero_Buscado)\n",
        "    else:\n",
        "      posicion = numeros.index(numero_Buscado, posicion+1 )\n",
        "\n",
        "    print(f\"Encontrado en posición: {posicion}\")\n"
      ]
    }
  ]
}