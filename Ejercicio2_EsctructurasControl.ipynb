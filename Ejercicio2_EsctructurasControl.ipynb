{
  "nbformat": 4,
  "nbformat_minor": 0,
  "metadata": {
    "colab": {
      "provenance": [],
      "authorship_tag": "ABX9TyO5NnjYDiMmFv0HgDTXNd/g",
      "include_colab_link": true
    },
    "kernelspec": {
      "name": "python3",
      "display_name": "Python 3"
    },
    "language_info": {
      "name": "python"
    }
  },
  "cells": [
    {
      "cell_type": "markdown",
      "metadata": {
        "id": "view-in-github",
        "colab_type": "text"
      },
      "source": [
        "<a href=\"https://colab.research.google.com/github/Yerai10/Python/blob/main/Ejercicio2_EsctructurasControl.ipynb\" target=\"_parent\"><img src=\"https://colab.research.google.com/assets/colab-badge.svg\" alt=\"Open In Colab\"/></a>"
      ]
    },
    {
      "cell_type": "markdown",
      "source": [
        "Ejercicio 2:\n",
        "\n",
        "Crea un programa llamado Factura.py que le pida al usuario precios para una factura, hasta que escriba 0. Entonces, el programa debe mostrar el total de la factura con 2 dígitos decimales."
      ],
      "metadata": {
        "id": "KVTA25WqGhgk"
      }
    },
    {
      "cell_type": "code",
      "execution_count": 4,
      "metadata": {
        "colab": {
          "base_uri": "https://localhost:8080/"
        },
        "id": "81n5fnJNGYxb",
        "outputId": "edbede99-1fc4-46c4-fd24-f43e140450b3"
      },
      "outputs": [
        {
          "output_type": "stream",
          "name": "stdout",
          "text": [
            "Escribe precios para calcular la factura:\n",
            "3.5\n",
            "Has indicado 3.5, continua calculando... Si quieres terminar escribe 0\n",
            "2.1\n",
            "Has indicado 2.1, continua calculando... Si quieres terminar escribe 0\n",
            "5.6\n",
            "Has indicado 5.6, continua calculando... Si quieres terminar escribe 0\n",
            "0\n",
            "El total de la factura es 11.20\n"
          ]
        }
      ],
      "source": [
        "total = 0\n",
        "print('Escribe precios para calcular la factura:')\n",
        "precio = float(input())\n",
        "total += precio\n",
        "while precio != 0:\n",
        "   print(f'Has indicado {precio}, continua calculando... Si quieres terminar escribe 0')\n",
        "   precio = float(input())\n",
        "   total += precio\n",
        "\n",
        "print(f'El total de la factura es {total:.2f}')\n"
      ]
    }
  ]
}