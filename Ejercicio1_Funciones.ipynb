{
  "nbformat": 4,
  "nbformat_minor": 0,
  "metadata": {
    "colab": {
      "provenance": [],
      "authorship_tag": "ABX9TyNJulS5v1ZQUJERBF51wWyu",
      "include_colab_link": true
    },
    "kernelspec": {
      "name": "python3",
      "display_name": "Python 3"
    },
    "language_info": {
      "name": "python"
    }
  },
  "cells": [
    {
      "cell_type": "markdown",
      "metadata": {
        "id": "view-in-github",
        "colab_type": "text"
      },
      "source": [
        "<a href=\"https://colab.research.google.com/github/Yerai10/Python/blob/main/Ejercicio1_Funciones.ipynb\" target=\"_parent\"><img src=\"https://colab.research.google.com/assets/colab-badge.svg\" alt=\"Open In Colab\"/></a>"
      ]
    },
    {
      "cell_type": "code",
      "execution_count": 8,
      "metadata": {
        "colab": {
          "base_uri": "https://localhost:8080/"
        },
        "id": "cgMOrUkjax6s",
        "outputId": "07e07883-63ad-491b-b227-af2a4a79a961"
      },
      "outputs": [
        {
          "output_type": "stream",
          "name": "stdout",
          "text": [
            "El MCD de 20 y 12 es 4\n",
            "Numeros primos del 1 al 50 son: \n",
            "2\n",
            "3\n",
            "5\n",
            "7\n",
            "11\n",
            "13\n",
            "17\n",
            "19\n",
            "23\n",
            "29\n",
            "31\n",
            "37\n",
            "41\n",
            "43\n",
            "47\n"
          ]
        }
      ],
      "source": [
        "from IPython.utils.text import re\n",
        "# Función que calcula el MCD de dos numeros:\n",
        "def mcd (a, b):\n",
        "  menor = min(a,b)\n",
        "  while menor > 1 and (a % menor !=0 or b % menor != 0):\n",
        "      menor = menor - 1\n",
        "  return menor\n",
        "# Funcion que determina si un número es primo o no:\n",
        "def esPrimo(n):\n",
        "  resultado = True\n",
        "  if n == 1:\n",
        "    resultado =  False\n",
        "  i = 2\n",
        "  while i <= n/2 and resultado:\n",
        "    if n % i == 0:\n",
        "      resultado = False\n",
        "    else:\n",
        "      i = i + 1\n",
        "  return resultado\n",
        "\n",
        "  # Programa principal\n",
        "\n",
        "mcd1 = mcd (20, 12)\n",
        "print(\"El MCD de 20 y 12 es %d\" % (mcd1))\n",
        "\n",
        "print(\"Numeros primos del 1 al 50 son: \")\n",
        "for i in range(1,50):\n",
        "  if esPrimo(i):\n",
        "    print(i)\n"
      ]
    },
    {
      "cell_type": "markdown",
      "source": [
        "Crea un programa llamado Funciones.py con las siguientes funciones:\n",
        "\n",
        "Una función llamada mcd que reciba dos enteros a y b como parámetros y devuelva el máximo común divisor de esos parámetros. El máximo común divisor es el número más alto por el que se pueden dividir los dos números.\n",
        "Una función llamada esPrimo que reciba un número como parámetro y devuelva un booleano indicando si el número es primo o no\n",
        "Desde el programa principal, llama a la función mcd para calcular el máximo común divisor de 20 y 12 (debería dar 4), y usa la función esPrimo para sacar los números primos que haya del 1 al 50."
      ],
      "metadata": {
        "id": "rLLpT22Pe78J"
      }
    }
  ]
}